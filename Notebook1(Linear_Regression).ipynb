{
 "cells": [
  {
   "cell_type": "code",
   "execution_count": 1,
   "id": "07c16357",
   "metadata": {},
   "outputs": [],
   "source": [
    "import numpy as np\n",
    "import pandas as pd\n",
    "import seaborn as sns\n",
    "from sklearn.metrics import mean_squared_error"
   ]
  },
  {
   "cell_type": "code",
   "execution_count": 2,
   "id": "c01090fd",
   "metadata": {},
   "outputs": [],
   "source": [
    "data=pd.read_csv('Downloads/Train_Data.csv')"
   ]
  },
  {
   "cell_type": "code",
   "execution_count": 3,
   "id": "6d546177",
   "metadata": {},
   "outputs": [],
   "source": [
    "datatest=pd.read_csv('Downloads/Test_Data.csv')"
   ]
  },
  {
   "cell_type": "code",
   "execution_count": 4,
   "id": "7abb0627",
   "metadata": {},
   "outputs": [
    {
     "data": {
      "text/plain": [
       "(4571, 9)"
      ]
     },
     "execution_count": 4,
     "metadata": {},
     "output_type": "execute_result"
    }
   ],
   "source": [
    "data.shape"
   ]
  },
  {
   "cell_type": "code",
   "execution_count": 5,
   "id": "cc5bd447",
   "metadata": {},
   "outputs": [],
   "source": [
    "from sklearn.linear_model import LinearRegression\n",
    "from sklearn.model_selection import train_test_split"
   ]
  },
  {
   "cell_type": "code",
   "execution_count": 6,
   "id": "4feede4f",
   "metadata": {},
   "outputs": [],
   "source": [
    "train=data.drop(['date','campaign','adgroup','ad','revenue'],axis=1)\n",
    "tst=datatest.drop(['date','campaign','adgroup','ad'],axis=1)\n",
    "test=data['revenue']"
   ]
  },
  {
   "cell_type": "code",
   "execution_count": 7,
   "id": "c96f6310",
   "metadata": {},
   "outputs": [],
   "source": [
    "X_train,X_test,y_train,y_test = train_test_split(train,test,test_size=0.2,random_state=2)"
   ]
  },
  {
   "cell_type": "code",
   "execution_count": 8,
   "id": "1557511b",
   "metadata": {},
   "outputs": [],
   "source": [
    "regr = LinearRegression()"
   ]
  },
  {
   "cell_type": "code",
   "execution_count": 9,
   "id": "1953ec9d",
   "metadata": {},
   "outputs": [
    {
     "data": {
      "text/plain": [
       "LinearRegression()"
      ]
     },
     "execution_count": 9,
     "metadata": {},
     "output_type": "execute_result"
    }
   ],
   "source": [
    "regr.fit(X_train,y_train)"
   ]
  },
  {
   "cell_type": "code",
   "execution_count": 10,
   "id": "170c263a",
   "metadata": {},
   "outputs": [],
   "source": [
    "pred = regr.predict(X_test)"
   ]
  },
  {
   "cell_type": "code",
   "execution_count": 11,
   "id": "8e5d9140",
   "metadata": {},
   "outputs": [
    {
     "data": {
      "text/plain": [
       "255.41957056495642"
      ]
     },
     "execution_count": 11,
     "metadata": {},
     "output_type": "execute_result"
    }
   ],
   "source": [
    "np.sqrt(mean_squared_error(y_test, pred))"
   ]
  },
  {
   "cell_type": "code",
   "execution_count": 12,
   "id": "e021c52a",
   "metadata": {},
   "outputs": [],
   "source": [
    "from sklearn.linear_model import ElasticNet"
   ]
  },
  {
   "cell_type": "code",
   "execution_count": 13,
   "id": "05c9622b",
   "metadata": {},
   "outputs": [
    {
     "data": {
      "text/plain": [
       "ElasticNet(alpha=0.01)"
      ]
     },
     "execution_count": 13,
     "metadata": {},
     "output_type": "execute_result"
    }
   ],
   "source": [
    "model_enet = ElasticNet(alpha = 0.01)\n",
    "model_enet.fit(X_train, y_train)"
   ]
  },
  {
   "cell_type": "code",
   "execution_count": 14,
   "id": "88b574f1",
   "metadata": {},
   "outputs": [],
   "source": [
    "pred_train_enet= model_enet.predict(X_test)"
   ]
  },
  {
   "cell_type": "code",
   "execution_count": 15,
   "id": "d87e0980",
   "metadata": {},
   "outputs": [
    {
     "data": {
      "text/plain": [
       "255.3892396588743"
      ]
     },
     "execution_count": 15,
     "metadata": {},
     "output_type": "execute_result"
    }
   ],
   "source": [
    "np.sqrt(mean_squared_error(y_test, pred_train_enet))"
   ]
  },
  {
   "cell_type": "code",
   "execution_count": 16,
   "id": "6a7e84c7",
   "metadata": {},
   "outputs": [
    {
     "data": {
      "text/plain": [
       "ElasticNet(alpha=0.01)"
      ]
     },
     "execution_count": 16,
     "metadata": {},
     "output_type": "execute_result"
    }
   ],
   "source": [
    "model_enet.fit(train, test)"
   ]
  },
  {
   "cell_type": "code",
   "execution_count": 17,
   "id": "f663e634",
   "metadata": {},
   "outputs": [],
   "source": [
    "ans = model_enet.predict(tst)"
   ]
  },
  {
   "cell_type": "code",
   "execution_count": 18,
   "id": "564fa9f5",
   "metadata": {},
   "outputs": [],
   "source": [
    "df=pd.DataFrame(ans)\n",
    "df[df<0]=0\n",
    "df=ans"
   ]
  },
  {
   "cell_type": "code",
   "execution_count": 19,
   "id": "654537e8",
   "metadata": {},
   "outputs": [],
   "source": [
    "prediction = pd.DataFrame(ans, columns=['revenue']).to_csv('enetanswer.csv')"
   ]
  },
  {
   "cell_type": "code",
   "execution_count": null,
   "id": "e111718f",
   "metadata": {},
   "outputs": [],
   "source": []
  }
 ],
 "metadata": {
  "kernelspec": {
   "display_name": "Python 3",
   "language": "python",
   "name": "python3"
  },
  "language_info": {
   "codemirror_mode": {
    "name": "ipython",
    "version": 3
   },
   "file_extension": ".py",
   "mimetype": "text/x-python",
   "name": "python",
   "nbconvert_exporter": "python",
   "pygments_lexer": "ipython3",
   "version": "3.8.8"
  }
 },
 "nbformat": 4,
 "nbformat_minor": 5
}
